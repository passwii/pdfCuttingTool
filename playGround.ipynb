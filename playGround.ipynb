{
 "cells": [
  {
   "cell_type": "code",
   "execution_count": 1,
   "id": "initial_id",
   "metadata": {
    "collapsed": true,
    "ExecuteTime": {
     "end_time": "2023-08-13T09:24:49.932121500Z",
     "start_time": "2023-08-13T09:24:49.906159400Z"
    }
   },
   "outputs": [],
   "source": [
    "from PyPDF2 import PdfWriter, PdfReader\n",
    "import os\n",
    "\n",
    "reader = PdfReader(\"inputs/tmp.pdf\")\n",
    "writer = PdfWriter()\n",
    "page = reader.pages[0]"
   ]
  },
  {
   "cell_type": "code",
   "execution_count": 5,
   "outputs": [
    {
     "name": "stdout",
     "output_type": "stream",
     "text": [
      "40\n"
     ]
    }
   ],
   "source": [
    "x01 = page.cropbox.lower_left[0]\n",
    "x02 = page.cropbox.lower_right[0]\n",
    "y01 = page.cropbox.lower_left[1]\n",
    "y02 = page.cropbox.upper_left[1]\n",
    "\n",
    "freshPageCo1 = page.cropbox.lower_left = (x01, y01 + 35)\n",
    "freshPageCo2 = page.cropbox.upper_right = (x02, y02 - 35)\n",
    "\n",
    "page = writer.add_page(page)\n",
    "x1 = page.cropbox.lower_left[0] # 0\n",
    "x2 = page.cropbox.lower_right[0] #612\n",
    "y1 = page.cropbox.lower_left[1] #35\n",
    "y2 = page.cropbox.upper_left[1] #757\n",
    "\n",
    "width = round((x2 - x1) / 2, 2) # 306\n",
    "height = round((y2 - y1) / 3, 2) #240"
   ],
   "metadata": {
    "collapsed": false,
    "ExecuteTime": {
     "end_time": "2023-08-13T09:26:04.748594700Z",
     "start_time": "2023-08-13T09:26:04.737584200Z"
    }
   },
   "id": "b1b92c309dfdf6b0"
  },
  {
   "cell_type": "code",
   "execution_count": null,
   "outputs": [],
   "source": [],
   "metadata": {
    "collapsed": false
   },
   "id": "9ceb64dbe0b58f1b"
  }
 ],
 "metadata": {
  "kernelspec": {
   "display_name": "Python 3",
   "language": "python",
   "name": "python3"
  },
  "language_info": {
   "codemirror_mode": {
    "name": "ipython",
    "version": 2
   },
   "file_extension": ".py",
   "mimetype": "text/x-python",
   "name": "python",
   "nbconvert_exporter": "python",
   "pygments_lexer": "ipython2",
   "version": "2.7.6"
  }
 },
 "nbformat": 4,
 "nbformat_minor": 5
}
