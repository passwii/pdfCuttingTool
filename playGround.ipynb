{
 "cells": [
  {
   "cell_type": "code",
   "execution_count": 1,
   "id": "initial_id",
   "metadata": {
    "collapsed": true,
    "ExecuteTime": {
     "end_time": "2023-08-13T09:24:49.932121500Z",
     "start_time": "2023-08-13T09:24:49.906159400Z"
    }
   },
   "outputs": [],
   "source": [
    "from PyPDF2 import PdfWriter, PdfReader\n",
    "import os\n",
    "\n",
    "inDir = r'inputs'\n",
    "outDir = r'outputs\\{packageID}'.format(packageID='package-FBA1781SY190')\n",
    "\n",
    "inFile = os.path.join(inDir, r'{packageID}.pdf'.format(packageID='package-FBA1791SY190'))\n",
    "pdf_reader = PdfReader(inFile)"
   ]
  },
  {
   "cell_type": "code",
   "execution_count": 5,
   "outputs": [
    {
     "name": "stdout",
     "output_type": "stream",
     "text": [
      "40\n"
     ]
    }
   ],
   "source": [
    "num_pages = len(pdf_reader.pages)\n",
    "print(num_pages)"
   ],
   "metadata": {
    "collapsed": false,
    "ExecuteTime": {
     "end_time": "2023-08-13T09:26:04.748594700Z",
     "start_time": "2023-08-13T09:26:04.737584200Z"
    }
   },
   "id": "b1b92c309dfdf6b0"
  },
  {
   "cell_type": "code",
   "execution_count": null,
   "outputs": [],
   "source": [],
   "metadata": {
    "collapsed": false
   },
   "id": "9ceb64dbe0b58f1b"
  }
 ],
 "metadata": {
  "kernelspec": {
   "display_name": "Python 3",
   "language": "python",
   "name": "python3"
  },
  "language_info": {
   "codemirror_mode": {
    "name": "ipython",
    "version": 2
   },
   "file_extension": ".py",
   "mimetype": "text/x-python",
   "name": "python",
   "nbconvert_exporter": "python",
   "pygments_lexer": "ipython2",
   "version": "2.7.6"
  }
 },
 "nbformat": 4,
 "nbformat_minor": 5
}
